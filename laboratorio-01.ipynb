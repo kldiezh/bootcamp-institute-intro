{
 "cells": [
  {
   "cell_type": "markdown",
   "metadata": {},
   "source": [
    "# Sesión 03: Exploración y Visualización de Datos de Producción Petrolera\n",
    "# Laboratorio Práctico\n",
    "\n",
    "Este notebook es parte del programa de Machine Learning Aplicado para la industria petrolera.\n",
    "En esta sesión aprenderemos a:\n",
    "1. Realizar análisis exploratorio de datos (EDA) en datasets de producción petrolera\n",
    "2. Aplicar técnicas estadísticas descriptivas para entender nuestros datos\n",
    "3. Crear visualizaciones efectivas para comunicar patrones y tendencias\n",
    "4. Identificar insights que pueden generar valor operativo"
   ]
  },
  {
   "cell_type": "code",
   "execution_count": null,
   "metadata": {},
   "source": [
    "# Importamos las librerías necesarias\n",
    "import numpy as np\n",
    "import pandas as pd\n",
    "import matplotlib.pyplot as plt\n",
    "import seaborn as sns\n",
    "\n",
    "# Para visualizaciones interactivas\n",
    "import plotly.express as px\n",
    "import plotly.graph_objects as go\n",
    "from plotly.subplots import make_subplots\n",
    "\n",
    "# Configuramos opciones de visualización\n",
    "plt.style.use('seaborn-v0_8-whitegrid')  # Estilo visual limpio\n",
    "sns.set_palette(\"deep\")  # Paleta de colores contrastante\n",
    "pd.set_option('display.max_columns', None)  # Mostrar todas las columnas\n",
    "\n",
    "print(\"¡Entorno configurado correctamente!\")"
   ]
  },
  {
   "cell_type": "markdown",
   "metadata": {},
   "source": [
    "## 1. Carga y Exploración Inicial de Datos\n",
    "\n",
    "Comenzaremos cargando un conjunto de datos de producción petrolera. Este \n",
    "dataset contiene información diaria sobre varios pozos, incluyendo:\n",
    "- Tasas de producción (petróleo, gas, agua)\n",
    "- Presiones (cabezal, línea)\n",
    "- Parámetros operativos (horas operativas, choke)\n",
    "- Información contextual (fecha, pozo, campo)"
   ]
  },
  {
   "cell_type": "code",
   "execution_count": null,
   "metadata": {},
   "source": [
    "# Cargamos los datos\n",
    "# En un entorno real, podríamos hacer:\n",
    "# df = pd.read_csv(\"data/produccion_petrolera.csv\")\n",
    "\n",
    "# Para este ejercicio utilizaremos datos sintéticos\n",
    "# que recrean patrones típicos de la industria\n",
    "\n",
    "# Generamos datos sintéticos para el laboratorio\n",
    "np.random.seed(42)  # Para reproducibilidad\n",
    "\n",
    "# Período de tiempo: 365 días\n",
    "fechas = pd.date_range(start='2022-01-01', periods=365, freq='D')\n",
    "\n",
    "# Creamos 5 pozos con características diferentes\n",
    "pozos = ['POZO-A', 'POZO-B', 'POZO-C', 'POZO-D', 'POZO-E']\n",
    "\n",
    "# Lista para almacenar los datos\n",
    "datos = []"
   ]
  },
  {
   "cell_type": "code",
   "execution_count": null,
   "metadata": {},
   "source": [
    "# Función para crear un patrón de producción realista con tendencia de declinación\n",
    "def generar_produccion(dias, tasa_inicial, declive_anual=0.2, ruido=0.1, intervencion=None):\n",
    "    # Tendencia de declive exponencial (común en pozos petroleros)\n",
    "    declive_diario = (1 - declive_anual) ** (1/365)\n",
    "    tendencia = tasa_inicial * declive_diario ** np.arange(dias)\n",
    "    \n",
    "    # Agregamos ruido para simular variaciones naturales\n",
    "    ruido = np.random.normal(0, ruido * tasa_inicial, dias)\n",
    "    produccion = tendencia + ruido\n",
    "    \n",
    "    # Opcional: simulamos una intervención (workover) que mejora la producción\n",
    "    if intervencion:\n",
    "        dia_intervencion, mejora = intervencion\n",
    "        if dia_intervencion < dias:\n",
    "            produccion[dia_intervencion:] = produccion[dia_intervencion:] * mejora\n",
    "    \n",
    "    return np.maximum(0, produccion)  # No puede haber producción negativa"
   ]
  },
  {
   "cell_type": "code",
   "execution_count": null,
   "metadata": {},
   "source": [
    "# Generamos datos para cada pozo\n",
    "for pozo in pozos:\n",
    "    # Cada pozo tiene características distintas\n",
    "    if pozo == 'POZO-A':\n",
    "        # Pozo con alta producción inicial y rápida declinación\n",
    "        prod_petroleo = generar_produccion(365, 1200, declive_anual=0.4, intervencion=(180, 1.5))\n",
    "        prod_gas = prod_petroleo * 1.2 + np.random.normal(0, 50, 365)\n",
    "        prod_agua = generar_produccion(365, 200, declive_anual=-0.5)  # Incremento de agua\n",
    "        \n",
    "    elif pozo == 'POZO-B':\n",
    "        # Pozo estable con baja declinación\n",
    "        prod_petroleo = generar_produccion(365, 800, declive_anual=0.15)\n",
    "        prod_gas = prod_petroleo * 0.8 + np.random.normal(0, 30, 365)\n",
    "        prod_agua = generar_produccion(365, 300, declive_anual=0.1)\n",
    "        \n",
    "    elif pozo == 'POZO-C':\n",
    "        # Pozo con problemas operativos (caídas súbitas)\n",
    "        prod_petroleo = generar_produccion(365, 950, declive_anual=0.25)\n",
    "        # Simulamos problemas en ciertos días\n",
    "        for problema in [50, 120, 200, 280]:\n",
    "            ventana = np.random.randint(3, 10)  # Duración del problema\n",
    "            prod_petroleo[problema:problema+ventana] *= 0.3\n",
    "        prod_gas = prod_petroleo * 1.5 + np.random.normal(0, 40, 365)\n",
    "        prod_agua = generar_produccion(365, 250, declive_anual=0.05)\n",
    "        \n",
    "    elif pozo == 'POZO-D':\n",
    "        # Pozo nuevo con alta producción\n",
    "        prod_petroleo = generar_produccion(365, 1500, declive_anual=0.3)\n",
    "        prod_gas = prod_petroleo * 1.1 + np.random.normal(0, 60, 365)\n",
    "        prod_agua = generar_produccion(365, 100, declive_anual=-0.3)\n",
    "        \n",
    "    else:  # POZO-E\n",
    "        # Pozo maduro con oscilaciones\n",
    "        prod_petroleo = generar_produccion(365, 500, declive_anual=0.1, ruido=0.2)\n",
    "        prod_gas = prod_petroleo * 0.7 + np.random.normal(0, 20, 365)\n",
    "        prod_agua = generar_produccion(365, 700, declive_anual=-0.1)\n",
    "    \n",
    "    # Parámetros operativos\n",
    "    presion_cabezal = np.random.normal(1800, 100, 365) - np.arange(365) * 0.2\n",
    "    presion_linea = np.random.normal(800, 50, 365)\n",
    "    temperatura = np.random.normal(80, 5, 365) + np.sin(np.arange(365) * 2 * np.pi / 365) * 3\n",
    "    choke = 50 + np.random.normal(0, 5, 365)\n",
    "    horas_operativas = np.random.normal(23, 1, 365)\n",
    "    \n",
    "    # Ajustamos valores a rangos realistas\n",
    "    choke = np.clip(choke, 0, 100)\n",
    "    horas_operativas = np.clip(horas_operativas, 0, 24)\n",
    "    \n",
    "    # Creamos registros diarios para este pozo\n",
    "    for i, fecha in enumerate(fechas):\n",
    "        registro = {\n",
    "            'fecha': fecha,\n",
    "            'pozo': pozo,\n",
    "            'campo': 'CAMPO-' + pozo[-1],  # Agrupamos por el último carácter del nombre\n",
    "            'petroleo_bbl': max(0, prod_petroleo[i]),\n",
    "            'gas_mscf': max(0, prod_gas[i]),\n",
    "            'agua_bbl': max(0, prod_agua[i]),\n",
    "            'presion_cabezal_psi': max(0, presion_cabezal[i]),\n",
    "            'presion_linea_psi': max(0, presion_linea[i]),\n",
    "            'temperatura_c': temperatura[i],\n",
    "            'choke_percent': choke[i],\n",
    "            'horas_operativas': horas_operativas[i]\n",
    "        }\n",
    "        \n",
    "        datos.append(registro)"
   ]
  },
  {
   "cell_type": "code",
   "execution_count": null,
   "metadata": {},
   "source": [
    "# Creamos el DataFrame con todos los datos\n",
    "df = pd.DataFrame(datos)\n",
    "\n",
    "# Calculamos campos derivados útiles para el análisis\n",
    "df['liquido_total'] = df['petroleo_bbl'] + df['agua_bbl']\n",
    "df['corte_agua'] = df['agua_bbl'] / df['liquido_total']\n",
    "df['gas_petroleo_ratio'] = df['gas_mscf'] / df['petroleo_bbl']\n",
    "df['produccion_equivalente'] = df['petroleo_bbl'] + df['gas_mscf'] / 6  # Conversión aproximada\n",
    "\n",
    "# Mostramos las primeras filas para verificar\n",
    "print(\"Vista previa de los datos generados:\")\n",
    "df.head()"
   ]
  },
  {
   "cell_type": "markdown",
   "metadata": {},
   "source": [
    "## 2. Estadísticas Descriptivas para Datos de Producción\n",
    "\n",
    "Las estadísticas descriptivas son fundamentales para entender nuestros datos:\n",
    "- Medidas de tendencia central (media, mediana)\n",
    "- Medidas de dispersión (desviación estándar, rango)\n",
    "- Percentiles y distribuciones\n",
    "- Correlaciones entre variables\n",
    "\n",
    "Estas métricas nos dan una primera visión sobre el comportamiento de los pozos."
   ]
  },
  {
   "cell_type": "code",
   "execution_count": null,
   "metadata": {},
   "source": [
    "# Estadísticas descriptivas generales\n",
    "print(\"Estadísticas descriptivas de todo el dataset:\")\n",
    "descripcion = df.describe().T\n",
    "descripcion['cv'] = descripcion['std'] / descripcion['mean']  # Coeficiente de variación\n",
    "descripcion"
   ]
  },
  {
   "cell_type": "code",
   "execution_count": null,
   "metadata": {},
   "source": [
    "# Analizamos por pozo\n",
    "print(\"\\nPetróleo promedio por pozo (bbl/día):\")\n",
    "df.groupby('pozo')['petroleo_bbl'].mean().sort_values(ascending=False)"
   ]
  },
  {
   "cell_type": "code",
   "execution_count": null,
   "metadata": {},
   "source": [
    "print(\"\\nProducción total acumulada por pozo:\")\n",
    "produccion_acumulada = df.groupby('pozo').agg({\n",
    "    'petroleo_bbl': 'sum',\n",
    "    'gas_mscf': 'sum',\n",
    "    'agua_bbl': 'sum'\n",
    "})\n",
    "produccion_acumulada"
   ]
  },
  {
   "cell_type": "code",
   "execution_count": null,
   "metadata": {},
   "source": [
    "# Análisis de tendencia mensual (promediando por mes)\n",
    "df['mes'] = df['fecha'].dt.strftime('%Y-%m')\n",
    "tendencia_mensual = df.groupby(['pozo', 'mes']).agg({\n",
    "    'petroleo_bbl': 'mean',\n",
    "    'gas_mscf': 'mean',\n",
    "    'agua_bbl': 'mean'\n",
    "}).reset_index()\n",
    "\n",
    "print(\"\\nTendencia mensual de producción (primeros 5 meses):\")\n",
    "tendencia_mensual.head()"
   ]
  },
  {
   "cell_type": "code",
   "execution_count": null,
   "metadata": {},
   "source": [
    "# Análisis de correlación entre variables\n",
    "print(\"\\nMatriz de correlación entre variables principales:\")\n",
    "columnas_correlacion = ['petroleo_bbl', 'gas_mscf', 'agua_bbl', \n",
    "                        'presion_cabezal_psi', 'presion_linea_psi', \n",
    "                        'temperatura_c', 'choke_percent', 'horas_operativas']\n",
    "matriz_correlacion = df[columnas_correlacion].corr()\n",
    "matriz_correlacion"
   ]
  },
  {
   "cell_type": "markdown",
   "metadata": {},
   "source": [
    "## 3. Visualización de Series Temporales de Producción\n",
    "\n",
    "Las series temporales son fundamentales en datos de producción petrolera.\n",
    "Visualizarlas adecuadamente nos permite:\n",
    "- Identificar tendencias de declive natural\n",
    "- Detectar eventos operativos (cierres, intervenciones)\n",
    "- Analizar patrones estacionales o cíclicos\n",
    "- Comparar rendimiento entre pozos"
   ]
  },
  {
   "cell_type": "code",
   "execution_count": null,
   "metadata": {},
   "source": [
    "# Gráfico de series temporales de producción de petróleo por pozo\n",
    "plt.figure(figsize=(12, 6))\n",
    "for pozo in pozos:\n",
    "    datos_pozo = df[df['pozo'] == pozo]\n",
    "    plt.plot(datos_pozo['fecha'], datos_pozo['petroleo_bbl'], label=pozo)\n",
    "\n",
    "plt.title('Producción de Petróleo por Pozo (bbl/día)', fontsize=14)\n",
    "plt.xlabel('Fecha', fontsize=12)\n",
    "plt.ylabel('Producción (bbl/día)', fontsize=12)\n",
    "plt.grid(True, alpha=0.3)\n",
    "plt.legend()\n",
    "plt.tight_layout()\n",
    "plt.show()"
   ]
  },
  {
   "cell_type": "code",
   "execution_count": null,
   "metadata": {},
   "source": [
    "# Gráfico de producción acumulada\n",
    "plt.figure(figsize=(12, 6))\n",
    "for pozo in pozos:\n",
    "    datos_pozo = df[df['pozo'] == pozo]\n",
    "    plt.plot(datos_pozo['fecha'], datos_pozo['petroleo_bbl'].cumsum(), label=pozo)\n",
    "\n",
    "plt.title('Producción Acumulada de Petróleo por Pozo', fontsize=14)\n",
    "plt.xlabel('Fecha', fontsize=12)\n",
    "plt.ylabel('Producción Acumulada (bbl)', fontsize=12)\n",
    "plt.grid(True, alpha=0.3)\n",
    "plt.legend()\n",
    "plt.tight_layout()\n",
    "plt.show()"
   ]
  },
  {
   "cell_type": "code",
   "execution_count": null,
   "metadata": {},
   "source": [
    "# Visualización de múltiples parámetros para un solo pozo\n",
    "pozo_analisis = 'POZO-A'\n",
    "datos_pozo = df[df['pozo'] == pozo_analisis]\n",
    "\n",
    "# Creamos una figura con subplots\n",
    "fig, axes = plt.subplots(3, 1, figsize=(12, 12), sharex=True)\n",
    "\n",
    "# Producción (petróleo, gas, agua)\n",
    "axes[0].plot(datos_pozo['fecha'], datos_pozo['petroleo_bbl'], 'g-', label='Petróleo (bbl)')\n",
    "axes[0].plot(datos_pozo['fecha'], datos_pozo['agua_bbl'], 'b-', label='Agua (bbl)')\n",
    "axes[0].set_ylabel('Producción (bbl/día)')\n",
    "axes[0].set_title(f'Análisis de Producción - {pozo_analisis}')\n",
    "axes[0].legend()\n",
    "axes[0].grid(True, alpha=0.3)\n",
    "\n",
    "# Línea secundaria para el gas (escala diferente)\n",
    "ax_gas = axes[0].twinx()\n",
    "ax_gas.plot(datos_pozo['fecha'], datos_pozo['gas_mscf'], 'r-', label='Gas (mscf)')\n",
    "ax_gas.set_ylabel('Gas (mscf/día)')\n",
    "ax_gas.legend(loc='upper right')\n",
    "\n",
    "# Presiones\n",
    "axes[1].plot(datos_pozo['fecha'], datos_pozo['presion_cabezal_psi'], 'r-', label='P. Cabezal')\n",
    "axes[1].plot(datos_pozo['fecha'], datos_pozo['presion_linea_psi'], 'b-', label='P. Línea')\n",
    "axes[1].set_ylabel('Presión (psi)')\n",
    "axes[1].legend()\n",
    "axes[1].grid(True, alpha=0.3)\n",
    "\n",
    "# Parámetros operativos\n",
    "axes[2].plot(datos_pozo['fecha'], datos_pozo['choke_percent'], 'g-', label='Choke (%)')\n",
    "axes[2].set_ylabel('Choke (%)')\n",
    "axes[2].set_xlabel('Fecha')\n",
    "axes[2].legend(loc='upper left')\n",
    "axes[2].grid(True, alpha=0.3)\n",
    "\n",
    "# Línea secundaria para horas operativas\n",
    "ax_horas = axes[2].twinx()\n",
    "ax_horas.plot(datos_pozo['fecha'], datos_pozo['horas_operativas'], 'k-', alpha=0.5, label='Hrs. Op.')\n",
    "ax_horas.set_ylabel('Horas Operativas')\n",
    "ax_horas.legend(loc='upper right')\n",
    "\n",
    "plt.tight_layout()\n",
    "plt.show()"
   ]
  },
  {
   "cell_type": "markdown",
   "metadata": {},
   "source": [
    "## 4. Análisis de Relaciones entre Variables\n",
    "\n",
    "Entender cómo se relacionan las variables nos permite:\n",
    "- Identificar factores que afectan la producción\n",
    "- Optimizar parámetros operativos\n",
    "- Predecir comportamientos futuros\n",
    "- Detectar anomalías o comportamientos no esperados"
   ]
  },
  {
   "cell_type": "code",
   "execution_count": null,
   "metadata": {},
   "source": [
    "# Gráfico de dispersión: Relación entre presión de cabezal y producción\n",
    "plt.figure(figsize=(10, 6))\n",
    "for pozo in pozos:\n",
    "    datos_pozo = df[df['pozo'] == pozo]\n",
    "    plt.scatter(datos_pozo['presion_cabezal_psi'], datos_pozo['petroleo_bbl'], \n",
    "               alpha=0.6, label=pozo)\n",
    "\n",
    "plt.title('Relación entre Presión de Cabezal y Producción de Petróleo', fontsize=14)\n",
    "plt.xlabel('Presión de Cabezal (psi)', fontsize=12)\n",
    "plt.ylabel('Producción de Petróleo (bbl/día)', fontsize=12)\n",
    "plt.grid(True, alpha=0.3)\n",
    "plt.legend()\n",
    "plt.tight_layout()\n",
    "plt.show()"
   ]
  },
  {
   "cell_type": "code",
   "execution_count": null,
   "metadata": {},
   "source": [
    "# Mapa de calor de correlaciones\n",
    "plt.figure(figsize=(12, 10))\n",
    "sns.heatmap(matriz_correlacion, annot=True, cmap='coolwarm', fmt='.2f', linewidths=0.5)\n",
    "plt.title('Mapa de Calor: Correlaciones entre Variables Operativas', fontsize=14)\n",
    "plt.tight_layout()\n",
    "plt.show()"
   ]
  },
  {
   "cell_type": "code",
   "execution_count": null,
   "metadata": {},
   "source": [
    "# Pairplot para analizar múltiples relaciones entre variables\n",
    "variables_clave = ['petroleo_bbl', 'gas_mscf', 'agua_bbl', \n",
    "                  'presion_cabezal_psi', 'choke_percent']\n",
    "sns.pairplot(df.sample(1000), vars=variables_clave, hue='pozo', height=2.5)\n",
    "plt.suptitle('Relaciones entre Variables Clave por Pozo', y=1.02, fontsize=16)\n",
    "plt.show()"
   ]
  },
  {
   "cell_type": "markdown",
   "metadata": {},
   "source": [
    "## 5. Detección de Outliers y Eventos Anómalos\n",
    "\n",
    "Los outliers pueden representar:\n",
    "- Errores de medición o registro\n",
    "- Eventos operativos reales (cierres, pruebas)\n",
    "- Comportamientos anómalos que requieren atención\n",
    "\n",
    "Identificarlos es crucial para análisis correctos y toma de decisiones."
   ]
  },
  {
   "cell_type": "code",
   "execution_count": null,
   "metadata": {},
   "source": [
    "# Gráfico de boxplot para identificar outliers por pozo\n",
    "plt.figure(figsize=(12, 6))\n",
    "sns.boxplot(x='pozo', y='petroleo_bbl', data=df)\n",
    "plt.title('Distribución y Outliers de Producción de Petróleo por Pozo', fontsize=14)\n",
    "plt.xlabel('Pozo', fontsize=12)\n",
    "plt.ylabel('Producción de Petróleo (bbl/día)', fontsize=12)\n",
    "plt.grid(True, alpha=0.3)\n",
    "plt.tight_layout()\n",
    "plt.show()"
   ]
  },
  {
   "cell_type": "code",
   "execution_count": null,
   "metadata": {},
   "source": [
    "# Método estadístico para detectar outliers (Z-score)\n",
    "def detectar_outliers_zscore(df, columna, umbral=3):\n",
    "    \"\"\"Detecta outliers usando Z-score\"\"\"\n",
    "    z_scores = abs((df[columna] - df[columna].mean()) / df[columna].std())\n",
    "    return df[z_scores > umbral]"
   ]
  },
  {
   "cell_type": "code",
   "execution_count": null,
   "metadata": {},
   "source": [
    "# Detectamos outliers por pozo usando Z-score\n",
    "for pozo in pozos:\n",
    "    datos_pozo = df[df['pozo'] == pozo]\n",
    "    outliers = detectar_outliers_zscore(datos_pozo, 'petroleo_bbl', umbral=2.5)\n",
    "    \n",
    "    if not outliers.empty:\n",
    "        print(f\"\\nOutliers detectados en {pozo} (producción de petróleo):\")\n",
    "        print(outliers[['fecha', 'petroleo_bbl', 'gas_mscf', 'agua_bbl']].head())"
   ]
  },
  {
   "cell_type": "code",
   "execution_count": null,
   "metadata": {},
   "source": [
    "# Visualización de outliers en la serie temporal\n",
    "plt.figure(figsize=(12, 6))\n",
    "for pozo in pozos:\n",
    "    datos_pozo = df[df['pozo'] == pozo]\n",
    "    \n",
    "    # Graficamos la serie normal\n",
    "    plt.plot(datos_pozo['fecha'], datos_pozo['petroleo_bbl'], alpha=0.7, label=pozo)\n",
    "    \n",
    "    # Identificamos outliers\n",
    "    outliers = detectar_outliers_zscore(datos_pozo, 'petroleo_bbl', umbral=2.5)\n",
    "    \n",
    "    # Marcamos los outliers\n",
    "    if not outliers.empty:\n",
    "        plt.scatter(outliers['fecha'], outliers['petroleo_bbl'], \n",
    "                   color='red', marker='o', s=50, label=f'{pozo} - Outliers')\n",
    "\n",
    "plt.title('Producción de Petróleo con Outliers Identificados', fontsize=14)\n",
    "plt.xlabel('Fecha', fontsize=12)\n",
    "plt.ylabel('Producción (bbl/día)', fontsize=12)\n",
    "plt.grid(True, alpha=0.3)\n",
    "plt.legend()\n",
    "plt.tight_layout()\n",
    "plt.show()"
   ]
  },
  {
   "cell_type": "markdown",
   "metadata": {},
   "source": [
    "## 6. Visualizaciones Avanzadas con Plotly (Interactivas)\n",
    "\n",
    "Las visualizaciones interactivas proporcionan:\n",
    "- Exploración más profunda de los datos\n",
    "- Comunicación efectiva con stakeholders\n",
    "- Capacidad para \"contar historias\" con los datos\n",
    "- Análisis drill-down para identificar causas raíz"
   ]
  },
  {
   "cell_type": "code",
   "execution_count": null,
   "metadata": {},
   "source": [
    "# Gráfico interactivo de producción por pozo\n",
    "fig = px.line(df, x='fecha', y='petroleo_bbl', color='pozo',\n",
    "             title='Producción de Petróleo por Pozo (Interactivo)',\n",
    "             labels={'petroleo_bbl': 'Producción (bbl/día)',\n",
    "                    'fecha': 'Fecha'})\n",
    "fig.update_layout(xaxis_title='Fecha',\n",
    "                 yaxis_title='Producción (bbl/día)',\n",
    "                 legend_title='Pozo',\n",
    "                 hovermode='closest')\n",
    "fig.show()"
   ]
  },
  {
   "cell_type": "code",
   "execution_count": null,
   "metadata": {},
   "source": [
    "# Dashboard interactivo con múltiples indicadores\n",
    "fig = make_subplots(\n",
    "    rows=2, cols=2,\n",
    "    subplot_titles=('Producción de Petróleo', 'Corte de Agua', \n",
    "                   'Relación Gas-Petróleo', 'Producción Acumulada'),\n",
    "    specs=[[{\"type\": \"scatter\"}, {\"type\": \"scatter\"}],\n",
    "           [{\"type\": \"scatter\"}, {\"type\": \"bar\"}]]\n",
    ")\n",
    "\n",
    "# 1. Producción de petróleo\n",
    "for pozo in pozos:\n",
    "    datos_pozo = df[df['pozo'] == pozo]\n",
    "    fig.add_trace(\n",
    "        go.Scatter(x=datos_pozo['fecha'], y=datos_pozo['petroleo_bbl'],\n",
    "                  name=pozo, mode='lines'),\n",
    "        row=1, col=1\n",
    "    )\n",
    "\n",
    "# 2. Corte de agua\n",
    "for pozo in pozos:\n",
    "    datos_pozo = df[df['pozo'] == pozo]\n",
    "    fig.add_trace(\n",
    "        go.Scatter(x=datos_pozo['fecha'], y=datos_pozo['corte_agua'],\n",
    "                  name=pozo, mode='lines', visible='legendonly'),\n",
    "        row=1, col=2\n",
    "    )\n",
    "\n",
    "# 3. Relación gas-petróleo\n",
    "for pozo in pozos:\n",
    "    datos_pozo = df[df['pozo'] == pozo]\n",
    "    fig.add_trace(\n",
    "        go.Scatter(x=datos_pozo['fecha'], y=datos_pozo['gas_petroleo_ratio'],\n",
    "                  name=pozo, mode='lines', visible='legendonly'),\n",
    "        row=2, col=1\n",
    "    )\n",
    "\n",
    "# 4. Producción acumulada\n",
    "fig.add_trace(\n",
    "    go.Bar(x=produccion_acumulada.index, y=produccion_acumulada['petroleo_bbl'],\n",
    "          name='Petróleo Acumulado'),\n",
    "    row=2, col=2\n",
    ")\n",
    "\n",
    "# Actualizar layout\n",
    "fig.update_layout(height=800, width=1000, title_text=\"Dashboard de Producción Petrolera\",\n",
    "                 legend_title='Pozo')\n",
    "fig.show()"
   ]
  },
  {
   "cell_type": "markdown",
   "metadata": {},
   "source": [
    "## 7. Ejercicios Prácticos para el Estudiante\n",
    "\n",
    "Ahora es tu turno de aplicar lo aprendido con estos ejercicios prácticos.\n",
    "Intenta resolverlos usando las técnicas y herramientas que hemos visto."
   ]
  },
  {
   "cell_type": "code",
   "execution_count": null,
   "metadata": {},
   "source": [
    "# EJERCICIO 1: Identificar el pozo con mayor variabilidad en producción\n",
    "# PISTA: Usa el coeficiente de variación (CV = desviación estándar / media)\n",
    "\n",
    "# Tu código aquí\n"
   ]
  },
  {
   "cell_type": "code",
   "execution_count": null,
   "metadata": {},
   "source": [
    "# EJERCICIO 2: Crea un gráfico que muestre la evolución del corte de agua para cada pozo\n",
    "# PISTA: Usa plt.figure() y un bucle para graficar cada pozo con diferente color\n",
    "\n",
    "# Tu código aquí\n"
   ]
  },
  {
   "cell_type": "code",
   "execution_count": null,
   "metadata": {},
   "source": [
    "# EJERCICIO 3: Encuentra qué parámetro operativo tiene mayor correlación con la producción de petróleo\n",
    "# PISTA: Usa la matriz de correlación que ya calculamos\n",
    "\n",
    "# Tu código aquí\n"
   ]
  },
  {
   "cell_type": "markdown",
   "metadata": {},
   "source": [
    "## 8. Conclusiones y Mejores Prácticas\n",
    "\n",
    "Resumen de lo aprendido:\n",
    "\n",
    "1. El análisis exploratorio de datos (EDA) es fundamental para entender el comportamiento\n",
    "   de los pozos y detectar oportunidades de optimización.\n",
    "\n",
    "2. Las visualizaciones efectivas transforman datos complejos en insights accionables,\n",
    "   facilitando la comunicación con stakeholders.\n",
    "\n",
    "3. Las técnicas estadísticas nos ayudan a cuantificar patrones, tendencias y relaciones\n",
    "   entre variables operativas.\n",
    "\n",
    "4. La detección de outliers y eventos anómalos permite identificar problemas operativos\n",
    "   o errores en los datos.\n",
    "\n",
    "5. Las herramientas interactivas como Plotly permiten análisis más profundos y\n",
    "   comunicación efectiva de resultados.\n",
    "\n",
    "Mejores prácticas:\n",
    "\n",
    "- Siempre comienza con estadísticas descriptivas básicas\n",
    "- Combina diferentes tipos de visualizaciones\n",
    "- Considera el contexto operativo al interpretar los datos\n",
    "- Documenta todos tus hallazgos con visualizaciones claras\n",
    "- Utiliza herramientas interactivas para presentaciones a stakeholders"
   ]
  },
  {
   "cell_type": "code",
   "execution_count": null,
   "metadata": {},
   "source": [
    "print(\"¡Laboratorio completado con éxito!\")"
   ]
  }
 ],
 "metadata": {
  "kernelspec": {
   "display_name": "Python 3",
   "language": "python",
   "name": "python3"
  },
  "language_info": {
   "codemirror_mode": {
    "name": "ipython",
    "version": 3
   },
   "file_extension": ".py",
   "mimetype": "text/x-python",
   "name": "python",
   "nbconvert_exporter": "python",
   "pygments_lexer": "ipython3",
   "version": "3.8.8"
  }
 },
 "nbformat": 4,
 "nbformat_minor": 4
}